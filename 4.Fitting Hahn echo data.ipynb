{
 "cells": [
  {
   "cell_type": "code",
   "execution_count": 6,
   "metadata": {},
   "outputs": [],
   "source": [
    "import scipy\n",
    "from scipy.optimize.minpack import curve_fit\n",
    "import numpy \n",
    "import matplotlib.pyplot"
   ]
  },
  {
   "cell_type": "code",
   "execution_count": 7,
   "metadata": {},
   "outputs": [],
   "source": [
    "#define the fit\n",
    "def model_func2(x, a, c):\n",
    "    return a*(numpy.exp(((-2*x)/0.26618876802713126) - (c*(2*x)**3)))\n",
    "\n",
    "def fit_hahn(x, y):\n",
    "    opt_parms, parm_cov = scipy.optimize.minpack.curve_fit(model_func2, x, y, p0=(200,270215422))\n",
    "    A, C = opt_parms\n",
    "    perr = [numpy.sqrt(numpy.diag(parm_cov))]\n",
    "    return A, C, perr \n"
   ]
  },
  {
   "cell_type": "code",
   "execution_count": 8,
   "metadata": {},
   "outputs": [],
   "source": [
    "Gposition = 30.969221948574123 #copy this in from a separate calculation"
   ]
  },
  {
   "cell_type": "code",
   "execution_count": 9,
   "metadata": {},
   "outputs": [],
   "source": [
    "#read in the data\n",
    "data2=numpy.loadtxt(fname='pos9a.csv', delimiter=',')\n",
    "X2= (data2[:,0])\n",
    "Y02 = (data2[:,1])"
   ]
  },
  {
   "cell_type": "code",
   "execution_count": 11,
   "metadata": {},
   "outputs": [
    {
     "name": "stdout",
     "output_type": "stream",
     "text": [
      "[array([2.16288792e+00, 1.12095615e+07])]\n",
      "The diffusion coefficient is 2.089125323661435e-09\n"
     ]
    },
    {
     "data": {
      "image/png": "[encoded data removed]",
      "text/plain": [
       "<Figure size 432x288 with 1 Axes>"
      ]
     },
     "metadata": {
      "needs_background": "light"
     },
     "output_type": "display_data"
    }
   ],
   "source": [
    "A2, C2, perr2= fit_hahn(X2,Y02)\n",
    "print (perr2)\n",
    "x = numpy.arange(0,0.002,0.0001)\n",
    "fit_y2 = model_func2(x, A2, C2)\n",
    "\n",
    "gamma=41.065e6\n",
    "\n",
    "D02 = (C2*12)/((Gposition**2)*(gamma)**2)\n",
    "print ('The diffusion coefficient is', D02)\n",
    "\n",
    "matplotlib.pyplot.plot(X2, Y02, linewidth=1.5, color='purple', linestyle = '', marker='x', markeredgecolor='purple', markerfacecolor='white', label='')\n",
    "matplotlib.pyplot.plot(x, fit_y2, linewidth=1.5, color='purple', linestyle = '-', marker='', markeredgecolor='purple', markerfacecolor='white', label='0.81 $\\pi$')\n",
    "\n",
    "matplotlib.pyplot.xlabel('Tau (s)')\n",
    "matplotlib.pyplot.ylabel('Magnetisation')\n",
    "matplotlib.pyplot.legend()\n",
    "matplotlib.pyplot.show()"
   ]
  },
  {
   "cell_type": "code",
   "execution_count": null,
   "metadata": {},
   "outputs": [],
   "source": []
  },
  {
   "cell_type": "code",
   "execution_count": null,
   "metadata": {},
   "outputs": [],
   "source": []
  }
 ],
 "metadata": {
  "kernelspec": {
   "display_name": "Python 3",
   "language": "python",
   "name": "python3"
  },
  "language_info": {
   "codemirror_mode": {
    "name": "ipython",
    "version": 3
   },
   "file_extension": ".py",
   "mimetype": "text/x-python",
   "name": "python",
   "nbconvert_exporter": "python",
   "pygments_lexer": "ipython3",
   "version": "3.7.0"
  }
 },
 "nbformat": 4,
 "nbformat_minor": 2
}
