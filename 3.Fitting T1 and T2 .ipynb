{
 "cells": [
  {
   "cell_type": "code",
   "execution_count": 15,
   "metadata": {},
   "outputs": [],
   "source": [
    "import scipy\n",
    "from scipy.optimize.minpack import curve_fit\n",
    "import numpy \n",
    "import matplotlib.pyplot"
   ]
  },
  {
   "cell_type": "markdown",
   "metadata": {},
   "source": [
    "# T1"
   ]
  },
  {
   "cell_type": "markdown",
   "metadata": {},
   "source": [
    "define the fit"
   ]
  },
  {
   "cell_type": "code",
   "execution_count": 16,
   "metadata": {},
   "outputs": [],
   "source": [
    "\n",
    "def model_func2(x, a, c, d):\n",
    "    return a*(1-d*numpy.exp((-2*x)/c))\n",
    "\n",
    "def fit_exp(x, y):\n",
    "    opt_parms, parm_cov = scipy.optimize.minpack.curve_fit(model_func2, x, y, p0=(-30000,0.01, 1))\n",
    "    A, C, D = opt_parms\n",
    "    perr = [numpy.sqrt(numpy.diag(parm_cov))]\n",
    "    return A, C, D, perr\n"
   ]
  },
  {
   "cell_type": "markdown",
   "metadata": {},
   "source": [
    "import the data"
   ]
  },
  {
   "cell_type": "code",
   "execution_count": 17,
   "metadata": {},
   "outputs": [],
   "source": [
    "data0=numpy.loadtxt(fname='Oxygen_T1.csv', delimiter=',')\n",
    "tau0 = (data0[:,0])\n",
    "IS0 = (data0[:,1])"
   ]
  },
  {
   "cell_type": "markdown",
   "metadata": {},
   "source": [
    "fit the data"
   ]
  },
  {
   "cell_type": "code",
   "execution_count": 18,
   "metadata": {},
   "outputs": [
    {
     "name": "stdout",
     "output_type": "stream",
     "text": [
      "[array([4.49117453e+02, 5.04845427e-07, 6.84486498e-02])]\n",
      "T1 is 1.1659169132244307e-05\n",
      "Delay time has to be at least 5.8295845661221533e-05 seconds\n"
     ]
    },
    {
     "data": {
      "image/png": "[encoded data removed]",
      "text/plain": [
       "<Figure size 432x288 with 1 Axes>"
      ]
     },
     "metadata": {
      "needs_background": "light"
     },
     "output_type": "display_data"
    }
   ],
   "source": [
    "A, T1, D, perr = fit_exp(tau0,IS0)\n",
    "\n",
    "print (perr)\n",
    "print ('T1 is', T1)\n",
    "print ('Delay time has to be at least', 5*T1,'seconds')\n",
    "\n",
    "\n",
    "fit_y = model_func2(tau0, A, T1, D)\n",
    "\n",
    "#plot the data\n",
    "matplotlib.pyplot.xlabel('Tau (s)', fontsize=12)\n",
    "matplotlib.pyplot.ylabel('Intergrated signal', fontsize=12)\n",
    "fig = matplotlib.pyplot.title('T1 Oxygen in Heavy Water', fontsize=12)\n",
    "fig = matplotlib.pyplot.plot(tau0, IS0, linewidth=1.5, color='b', linestyle = '--', marker='s', markeredgecolor='b', markerfacecolor='white', label='measured')\n",
    "fig = matplotlib.pyplot.plot(tau0, fit_y, linewidth=1.5, color='k', linestyle = '-', marker='', markeredgecolor='k', markerfacecolor='white', label='fitted')\n",
    "fig=matplotlib.pyplot.legend()\n",
    "figE = matplotlib.pyplot.show()\n"
   ]
  },
  {
   "cell_type": "markdown",
   "metadata": {},
   "source": [
    "# T2"
   ]
  },
  {
   "cell_type": "code",
   "execution_count": 19,
   "metadata": {},
   "outputs": [],
   "source": [
    "def model_func2(x, a, c):\n",
    "    return a*(numpy.exp((-2*x)/c))\n",
    "\n",
    "\n",
    "def fit_exp(x, y):\n",
    "    opt_parms, parm_cov = scipy.optimize.minpack.curve_fit(model_func2, x, y, p0=(70,0.02))\n",
    "    A, C = opt_parms\n",
    "    perr = [numpy.sqrt(numpy.diag(parm_cov))]\n",
    "    return A, C, perr"
   ]
  },
  {
   "cell_type": "code",
   "execution_count": 20,
   "metadata": {},
   "outputs": [],
   "source": [
    "data3=numpy.loadtxt(fname='Oxygen_T2.csv', delimiter=',')\n",
    "\n",
    "X3= (data3[:,0])\n",
    "\n",
    "Y3=(data3[:,1])\n"
   ]
  },
  {
   "cell_type": "code",
   "execution_count": 21,
   "metadata": {},
   "outputs": [
    {
     "name": "stdout",
     "output_type": "stream",
     "text": [
      "[array([1.11855225e+00, 1.93562511e-04])]\n",
      "T2 is 0.004612462625806852\n"
     ]
    },
    {
     "ename": "NameError",
     "evalue": "name 'C' is not defined",
     "output_type": "error",
     "traceback": [
      "\u001b[1;31m---------------------------------------------------------------------------\u001b[0m",
      "\u001b[1;31mNameError\u001b[0m                                 Traceback (most recent call last)",
      "\u001b[1;32m<ipython-input-21-5561f9da3563>\u001b[0m in \u001b[0;36m<module>\u001b[1;34m()\u001b[0m\n\u001b[0;32m      7\u001b[0m \u001b[1;33m\u001b[0m\u001b[0m\n\u001b[0;32m      8\u001b[0m \u001b[1;33m\u001b[0m\u001b[0m\n\u001b[1;32m----> 9\u001b[1;33m \u001b[0mfit_y\u001b[0m \u001b[1;33m=\u001b[0m \u001b[0mmodel_func2\u001b[0m\u001b[1;33m(\u001b[0m\u001b[0mX3\u001b[0m\u001b[1;33m,\u001b[0m \u001b[0mA\u001b[0m\u001b[1;33m,\u001b[0m \u001b[0mC\u001b[0m\u001b[1;33m)\u001b[0m\u001b[1;33m\u001b[0m\u001b[0m\n\u001b[0m\u001b[0;32m     10\u001b[0m \u001b[1;33m\u001b[0m\u001b[0m\n\u001b[0;32m     11\u001b[0m \u001b[1;33m\u001b[0m\u001b[0m\n",
      "\u001b[1;31mNameError\u001b[0m: name 'C' is not defined"
     ]
    }
   ],
   "source": [
    "\n",
    "A, T2,  perr = fit_exp(X3[0:6],Y3[0:6])\n",
    "\n",
    "print (perr)\n",
    "print ('T2 is', T2)\n",
    "\n",
    "\n",
    "\n",
    "fit_y = model_func2(X3, A, C)\n",
    "\n",
    "\n",
    "\n",
    "matplotlib.pyplot.xlabel('Tau (s)', fontsize=12)\n",
    "matplotlib.pyplot.ylabel('Intergrated signal', fontsize=12)\n",
    "fig = matplotlib.pyplot.title('T2 test', fontsize=12)\n",
    "\n",
    "fig = matplotlib.pyplot.plot(X3, Y3, linewidth=1.5, color='b', linestyle = '--', marker='s', markeredgecolor='b', markerfacecolor='white', label='measured')\n",
    "\n",
    "fig = matplotlib.pyplot.plot(X3, fit_y, linewidth=1.5, color='k', linestyle = '-', marker='', markeredgecolor='k', markerfacecolor='white', label='fitted')\n",
    "\n",
    "\n",
    "fig=matplotlib.pyplot.legend()\n",
    "\n",
    "figE = matplotlib.pyplot.show()\n"
   ]
  },
  {
   "cell_type": "code",
   "execution_count": 22,
   "metadata": {},
   "outputs": [
    {
     "name": "stdout",
     "output_type": "stream",
     "text": [
      "To use STE method with oxygen-17, this 3067813249.2288 should be bigger than this 16126000489.511562\n"
     ]
    }
   ],
   "source": [
    "gamma =36.264e6\n",
    "print ('To use STE method with oxygen-17, this',gamma**2*(36**2)*(1.8e-9), 'should be bigger than this',4/((T2**2)*T1))\n"
   ]
  },
  {
   "cell_type": "code",
   "execution_count": 23,
   "metadata": {},
   "outputs": [
    {
     "name": "stdout",
     "output_type": "stream",
     "text": [
      "or ciftelli says this is the min diffusion coef 0.056974604874144456 using STE method but I think it should be 4.3641846270976165e-11\n"
     ]
    }
   ],
   "source": [
    "print ('or ciftelli says this is the min diffusion coef', 4/(gamma*T2*T1*36), 'using STE method but I think it should be', 4/((36.264e6**2)*T2*T1*(36**2)))\n"
   ]
  },
  {
   "cell_type": "code",
   "execution_count": 227,
   "metadata": {},
   "outputs": [
    {
     "name": "stdout",
     "output_type": "stream",
     "text": [
      "to use hahn echo T2 should be more than 0.04831647056734447\n",
      "T2 is 0.08594973653027839\n"
     ]
    }
   ],
   "source": [
    "gamma= 36.264e6\n",
    "G=0.212\n",
    "D=1.8e-9\n",
    "print ('to use hahn echo T2 should be more than', (12/(gamma**2*G**2*D))**(1/3))\n",
    "print ('T2 is', T2)"
   ]
  },
  {
   "cell_type": "code",
   "execution_count": null,
   "metadata": {},
   "outputs": [],
   "source": []
  }
 ],
 "metadata": {
  "kernelspec": {
   "display_name": "Python 3",
   "language": "python",
   "name": "python3"
  },
  "language_info": {
   "codemirror_mode": {
    "name": "ipython",
    "version": 3
   },
   "file_extension": ".py",
   "mimetype": "text/x-python",
   "name": "python",
   "nbconvert_exporter": "python",
   "pygments_lexer": "ipython3",
   "version": "3.7.0"
  }
 },
 "nbformat": 4,
 "nbformat_minor": 2
}
